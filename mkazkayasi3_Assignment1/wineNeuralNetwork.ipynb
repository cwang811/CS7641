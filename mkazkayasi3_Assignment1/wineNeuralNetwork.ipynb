{
 "cells": [
  {
   "cell_type": "code",
   "execution_count": 1,
   "metadata": {},
   "outputs": [],
   "source": [
    "import sklearn\n",
    "import numpy as np\n",
    "import pandas as pd\n",
    "from IPython.display import display\n",
    "from sklearn.model_selection import train_test_split\n",
    "pd.options.display.max_columns = None\n",
    "import matplotlib.pyplot as plt\n",
    "import matplotlib\n",
    "matplotlib.rc('figure', figsize=[10,5])\n"
   ]
  },
  {
   "cell_type": "code",
   "execution_count": 2,
   "metadata": {},
   "outputs": [
    {
     "name": "stdout",
     "output_type": "stream",
     "text": [
      "<class 'pandas.core.frame.DataFrame'>\n",
      "RangeIndex: 5000 entries, 0 to 4999\n",
      "Data columns (total 14 columns):\n",
      "class                      5000 non-null int64\n",
      "Alcohol                    5000 non-null float64\n",
      "Malic_acid                 5000 non-null float64\n",
      "Ash                        5000 non-null float64\n",
      "Alcalinity_of_ash          5000 non-null float64\n",
      "Magnesium                  5000 non-null float64\n",
      "Total_phenols              5000 non-null float64\n",
      "Flavanoids                 5000 non-null float64\n",
      "Nonflavanoid_phenols       5000 non-null float64\n",
      "Proanthocyanins            5000 non-null float64\n",
      "Color_intensity            5000 non-null float64\n",
      "Hue                        5000 non-null float64\n",
      "Od_Hod_of_diluted_wines    5000 non-null float64\n",
      "Proline                    5000 non-null float64\n",
      "dtypes: float64(13), int64(1)\n",
      "memory usage: 547.0 KB\n",
      "None\n"
     ]
    },
    {
     "data": {
      "text/html": [
       "<div>\n",
       "<style scoped>\n",
       "    .dataframe tbody tr th:only-of-type {\n",
       "        vertical-align: middle;\n",
       "    }\n",
       "\n",
       "    .dataframe tbody tr th {\n",
       "        vertical-align: top;\n",
       "    }\n",
       "\n",
       "    .dataframe thead th {\n",
       "        text-align: right;\n",
       "    }\n",
       "</style>\n",
       "<table border=\"1\" class=\"dataframe\">\n",
       "  <thead>\n",
       "    <tr style=\"text-align: right;\">\n",
       "      <th></th>\n",
       "      <th>class</th>\n",
       "      <th>Alcohol</th>\n",
       "      <th>Malic_acid</th>\n",
       "      <th>Ash</th>\n",
       "      <th>Alcalinity_of_ash</th>\n",
       "      <th>Magnesium</th>\n",
       "      <th>Total_phenols</th>\n",
       "      <th>Flavanoids</th>\n",
       "      <th>Nonflavanoid_phenols</th>\n",
       "      <th>Proanthocyanins</th>\n",
       "      <th>Color_intensity</th>\n",
       "      <th>Hue</th>\n",
       "      <th>Od_Hod_of_diluted_wines</th>\n",
       "      <th>Proline</th>\n",
       "    </tr>\n",
       "  </thead>\n",
       "  <tbody>\n",
       "    <tr>\n",
       "      <th>0</th>\n",
       "      <td>1</td>\n",
       "      <td>13.761443</td>\n",
       "      <td>0.972960</td>\n",
       "      <td>2.191146</td>\n",
       "      <td>14.349954</td>\n",
       "      <td>106.525734</td>\n",
       "      <td>2.288580</td>\n",
       "      <td>2.584551</td>\n",
       "      <td>0.418044</td>\n",
       "      <td>1.862804</td>\n",
       "      <td>3.086808</td>\n",
       "      <td>1.169861</td>\n",
       "      <td>2.819086</td>\n",
       "      <td>850.678431</td>\n",
       "    </tr>\n",
       "    <tr>\n",
       "      <th>1</th>\n",
       "      <td>2</td>\n",
       "      <td>11.897923</td>\n",
       "      <td>1.297780</td>\n",
       "      <td>2.199666</td>\n",
       "      <td>17.478054</td>\n",
       "      <td>104.205421</td>\n",
       "      <td>2.716657</td>\n",
       "      <td>1.855066</td>\n",
       "      <td>0.318077</td>\n",
       "      <td>1.029640</td>\n",
       "      <td>9.103668</td>\n",
       "      <td>1.353718</td>\n",
       "      <td>2.780333</td>\n",
       "      <td>332.922006</td>\n",
       "    </tr>\n",
       "    <tr>\n",
       "      <th>2</th>\n",
       "      <td>3</td>\n",
       "      <td>12.659632</td>\n",
       "      <td>1.748552</td>\n",
       "      <td>2.438597</td>\n",
       "      <td>21.584696</td>\n",
       "      <td>88.079451</td>\n",
       "      <td>1.919476</td>\n",
       "      <td>0.681341</td>\n",
       "      <td>0.538078</td>\n",
       "      <td>1.327974</td>\n",
       "      <td>8.803633</td>\n",
       "      <td>0.643678</td>\n",
       "      <td>1.569951</td>\n",
       "      <td>633.531687</td>\n",
       "    </tr>\n",
       "    <tr>\n",
       "      <th>3</th>\n",
       "      <td>1</td>\n",
       "      <td>13.054828</td>\n",
       "      <td>1.817559</td>\n",
       "      <td>1.893926</td>\n",
       "      <td>15.390157</td>\n",
       "      <td>108.589893</td>\n",
       "      <td>2.662509</td>\n",
       "      <td>2.815723</td>\n",
       "      <td>0.278535</td>\n",
       "      <td>1.473812</td>\n",
       "      <td>6.386732</td>\n",
       "      <td>0.820398</td>\n",
       "      <td>3.694865</td>\n",
       "      <td>880.103325</td>\n",
       "    </tr>\n",
       "    <tr>\n",
       "      <th>4</th>\n",
       "      <td>3</td>\n",
       "      <td>11.769431</td>\n",
       "      <td>3.017528</td>\n",
       "      <td>3.013448</td>\n",
       "      <td>17.081528</td>\n",
       "      <td>86.525235</td>\n",
       "      <td>2.224963</td>\n",
       "      <td>0.846229</td>\n",
       "      <td>0.286065</td>\n",
       "      <td>1.644007</td>\n",
       "      <td>10.383464</td>\n",
       "      <td>0.734288</td>\n",
       "      <td>2.747013</td>\n",
       "      <td>475.152492</td>\n",
       "    </tr>\n",
       "  </tbody>\n",
       "</table>\n",
       "</div>"
      ],
      "text/plain": [
       "   class    Alcohol  Malic_acid       Ash  Alcalinity_of_ash   Magnesium  \\\n",
       "0      1  13.761443    0.972960  2.191146          14.349954  106.525734   \n",
       "1      2  11.897923    1.297780  2.199666          17.478054  104.205421   \n",
       "2      3  12.659632    1.748552  2.438597          21.584696   88.079451   \n",
       "3      1  13.054828    1.817559  1.893926          15.390157  108.589893   \n",
       "4      3  11.769431    3.017528  3.013448          17.081528   86.525235   \n",
       "\n",
       "   Total_phenols  Flavanoids  Nonflavanoid_phenols  Proanthocyanins  \\\n",
       "0       2.288580    2.584551              0.418044         1.862804   \n",
       "1       2.716657    1.855066              0.318077         1.029640   \n",
       "2       1.919476    0.681341              0.538078         1.327974   \n",
       "3       2.662509    2.815723              0.278535         1.473812   \n",
       "4       2.224963    0.846229              0.286065         1.644007   \n",
       "\n",
       "   Color_intensity       Hue  Od_Hod_of_diluted_wines     Proline  \n",
       "0         3.086808  1.169861                 2.819086  850.678431  \n",
       "1         9.103668  1.353718                 2.780333  332.922006  \n",
       "2         8.803633  0.643678                 1.569951  633.531687  \n",
       "3         6.386732  0.820398                 3.694865  880.103325  \n",
       "4        10.383464  0.734288                 2.747013  475.152492  "
      ]
     },
     "execution_count": 2,
     "metadata": {},
     "output_type": "execute_result"
    }
   ],
   "source": [
    "np.random.seed(44)\n",
    "wine_dataset = pd.read_csv(\"wine_dataset.csv\")\n",
    "print(wine_dataset.info())\n",
    "wine_dataset.head()"
   ]
  },
  {
   "cell_type": "code",
   "execution_count": 3,
   "metadata": {},
   "outputs": [
    {
     "name": "stdout",
     "output_type": "stream",
     "text": [
      "(5000, 14)\n",
      "(5000, 14)\n"
     ]
    },
    {
     "data": {
      "text/html": [
       "<div>\n",
       "<style scoped>\n",
       "    .dataframe tbody tr th:only-of-type {\n",
       "        vertical-align: middle;\n",
       "    }\n",
       "\n",
       "    .dataframe tbody tr th {\n",
       "        vertical-align: top;\n",
       "    }\n",
       "\n",
       "    .dataframe thead th {\n",
       "        text-align: right;\n",
       "    }\n",
       "</style>\n",
       "<table border=\"1\" class=\"dataframe\">\n",
       "  <thead>\n",
       "    <tr style=\"text-align: right;\">\n",
       "      <th></th>\n",
       "      <th>class</th>\n",
       "      <th>Alcohol</th>\n",
       "      <th>Malic_acid</th>\n",
       "      <th>Ash</th>\n",
       "      <th>Alcalinity_of_ash</th>\n",
       "      <th>Magnesium</th>\n",
       "      <th>Total_phenols</th>\n",
       "      <th>Flavanoids</th>\n",
       "      <th>Nonflavanoid_phenols</th>\n",
       "      <th>Proanthocyanins</th>\n",
       "      <th>Color_intensity</th>\n",
       "      <th>Hue</th>\n",
       "      <th>Od_Hod_of_diluted_wines</th>\n",
       "      <th>Proline</th>\n",
       "    </tr>\n",
       "  </thead>\n",
       "  <tbody>\n",
       "    <tr>\n",
       "      <th>0</th>\n",
       "      <td>1</td>\n",
       "      <td>0.726791</td>\n",
       "      <td>0.085805</td>\n",
       "      <td>0.432125</td>\n",
       "      <td>0.200468</td>\n",
       "      <td>0.392663</td>\n",
       "      <td>0.452788</td>\n",
       "      <td>0.559874</td>\n",
       "      <td>0.477090</td>\n",
       "      <td>0.489749</td>\n",
       "      <td>0.163244</td>\n",
       "      <td>0.635628</td>\n",
       "      <td>0.584439</td>\n",
       "      <td>0.399009</td>\n",
       "    </tr>\n",
       "    <tr>\n",
       "      <th>1</th>\n",
       "      <td>2</td>\n",
       "      <td>0.237919</td>\n",
       "      <td>0.142156</td>\n",
       "      <td>0.437079</td>\n",
       "      <td>0.357903</td>\n",
       "      <td>0.368467</td>\n",
       "      <td>0.599717</td>\n",
       "      <td>0.382811</td>\n",
       "      <td>0.322602</td>\n",
       "      <td>0.258369</td>\n",
       "      <td>0.665030</td>\n",
       "      <td>0.790293</td>\n",
       "      <td>0.571170</td>\n",
       "      <td>0.065151</td>\n",
       "    </tr>\n",
       "    <tr>\n",
       "      <th>2</th>\n",
       "      <td>3</td>\n",
       "      <td>0.437744</td>\n",
       "      <td>0.220358</td>\n",
       "      <td>0.576004</td>\n",
       "      <td>0.564587</td>\n",
       "      <td>0.200303</td>\n",
       "      <td>0.326101</td>\n",
       "      <td>0.097921</td>\n",
       "      <td>0.662590</td>\n",
       "      <td>0.341220</td>\n",
       "      <td>0.640008</td>\n",
       "      <td>0.192992</td>\n",
       "      <td>0.156748</td>\n",
       "      <td>0.258989</td>\n",
       "    </tr>\n",
       "    <tr>\n",
       "      <th>3</th>\n",
       "      <td>1</td>\n",
       "      <td>0.541419</td>\n",
       "      <td>0.232330</td>\n",
       "      <td>0.259309</td>\n",
       "      <td>0.252821</td>\n",
       "      <td>0.414189</td>\n",
       "      <td>0.581132</td>\n",
       "      <td>0.615985</td>\n",
       "      <td>0.261494</td>\n",
       "      <td>0.381721</td>\n",
       "      <td>0.438447</td>\n",
       "      <td>0.341653</td>\n",
       "      <td>0.884296</td>\n",
       "      <td>0.417983</td>\n",
       "    </tr>\n",
       "    <tr>\n",
       "      <th>4</th>\n",
       "      <td>3</td>\n",
       "      <td>0.204211</td>\n",
       "      <td>0.440507</td>\n",
       "      <td>0.910246</td>\n",
       "      <td>0.337946</td>\n",
       "      <td>0.184095</td>\n",
       "      <td>0.430953</td>\n",
       "      <td>0.137943</td>\n",
       "      <td>0.273130</td>\n",
       "      <td>0.428986</td>\n",
       "      <td>0.771760</td>\n",
       "      <td>0.269215</td>\n",
       "      <td>0.559762</td>\n",
       "      <td>0.156864</td>\n",
       "    </tr>\n",
       "  </tbody>\n",
       "</table>\n",
       "</div>"
      ],
      "text/plain": [
       "   class   Alcohol  Malic_acid       Ash  Alcalinity_of_ash  Magnesium  \\\n",
       "0      1  0.726791    0.085805  0.432125           0.200468   0.392663   \n",
       "1      2  0.237919    0.142156  0.437079           0.357903   0.368467   \n",
       "2      3  0.437744    0.220358  0.576004           0.564587   0.200303   \n",
       "3      1  0.541419    0.232330  0.259309           0.252821   0.414189   \n",
       "4      3  0.204211    0.440507  0.910246           0.337946   0.184095   \n",
       "\n",
       "   Total_phenols  Flavanoids  Nonflavanoid_phenols  Proanthocyanins  \\\n",
       "0       0.452788    0.559874              0.477090         0.489749   \n",
       "1       0.599717    0.382811              0.322602         0.258369   \n",
       "2       0.326101    0.097921              0.662590         0.341220   \n",
       "3       0.581132    0.615985              0.261494         0.381721   \n",
       "4       0.430953    0.137943              0.273130         0.428986   \n",
       "\n",
       "   Color_intensity       Hue  Od_Hod_of_diluted_wines   Proline  \n",
       "0         0.163244  0.635628                 0.584439  0.399009  \n",
       "1         0.665030  0.790293                 0.571170  0.065151  \n",
       "2         0.640008  0.192992                 0.156748  0.258989  \n",
       "3         0.438447  0.341653                 0.884296  0.417983  \n",
       "4         0.771760  0.269215                 0.559762  0.156864  "
      ]
     },
     "execution_count": 3,
     "metadata": {},
     "output_type": "execute_result"
    }
   ],
   "source": [
    "# normalize features for better performance \n",
    "from sklearn import preprocessing\n",
    "target = wine_dataset[\"class\"]\n",
    "x = wine_dataset.values # convert to numpy array\n",
    "print(x.shape)\n",
    "min_max_scaler = preprocessing.MinMaxScaler()\n",
    "x_scaled = min_max_scaler.fit_transform(x)\n",
    "print(x_scaled.shape)\n",
    "wine_dataset = pd.DataFrame(x_scaled, columns=wine_dataset.columns)\n",
    "wine_dataset[\"class\"] = target\n",
    "wine_dataset.head()"
   ]
  },
  {
   "cell_type": "code",
   "execution_count": 4,
   "metadata": {
    "scrolled": true
   },
   "outputs": [],
   "source": [
    "# stratified sampling\n",
    "from sklearn.model_selection import StratifiedShuffleSplit\n",
    "\n",
    "split = StratifiedShuffleSplit(n_splits=1 , test_size=0.2, random_state=30)\n",
    "for train_ind, test_ind in split.split(wine_dataset, wine_dataset[\"class\"]):\n",
    "    strat_train_set = wine_dataset.loc[train_ind]\n",
    "    strat_test_set = wine_dataset.loc[test_ind]"
   ]
  },
  {
   "cell_type": "code",
   "execution_count": 5,
   "metadata": {},
   "outputs": [],
   "source": [
    "train_set = strat_train_set\n",
    "test_set = strat_test_set"
   ]
  },
  {
   "cell_type": "code",
   "execution_count": 6,
   "metadata": {
    "scrolled": true
   },
   "outputs": [
    {
     "name": "stdout",
     "output_type": "stream",
     "text": [
      "<class 'pandas.core.frame.DataFrame'>\n",
      "Int64Index: 4000 entries, 1725 to 3709\n",
      "Data columns (total 14 columns):\n",
      "class                      4000 non-null int64\n",
      "Alcohol                    4000 non-null float64\n",
      "Malic_acid                 4000 non-null float64\n",
      "Ash                        4000 non-null float64\n",
      "Alcalinity_of_ash          4000 non-null float64\n",
      "Magnesium                  4000 non-null float64\n",
      "Total_phenols              4000 non-null float64\n",
      "Flavanoids                 4000 non-null float64\n",
      "Nonflavanoid_phenols       4000 non-null float64\n",
      "Proanthocyanins            4000 non-null float64\n",
      "Color_intensity            4000 non-null float64\n",
      "Hue                        4000 non-null float64\n",
      "Od_Hod_of_diluted_wines    4000 non-null float64\n",
      "Proline                    4000 non-null float64\n",
      "dtypes: float64(13), int64(1)\n",
      "memory usage: 468.8 KB\n",
      "<class 'pandas.core.frame.DataFrame'>\n",
      "Int64Index: 1000 entries, 387 to 4415\n",
      "Data columns (total 14 columns):\n",
      "class                      1000 non-null int64\n",
      "Alcohol                    1000 non-null float64\n",
      "Malic_acid                 1000 non-null float64\n",
      "Ash                        1000 non-null float64\n",
      "Alcalinity_of_ash          1000 non-null float64\n",
      "Magnesium                  1000 non-null float64\n",
      "Total_phenols              1000 non-null float64\n",
      "Flavanoids                 1000 non-null float64\n",
      "Nonflavanoid_phenols       1000 non-null float64\n",
      "Proanthocyanins            1000 non-null float64\n",
      "Color_intensity            1000 non-null float64\n",
      "Hue                        1000 non-null float64\n",
      "Od_Hod_of_diluted_wines    1000 non-null float64\n",
      "Proline                    1000 non-null float64\n",
      "dtypes: float64(13), int64(1)\n",
      "memory usage: 117.2 KB\n"
     ]
    },
    {
     "data": {
      "text/plain": [
       "(None, None)"
      ]
     },
     "execution_count": 6,
     "metadata": {},
     "output_type": "execute_result"
    }
   ],
   "source": [
    "# stratified sampling is not needed\n",
    "train_set.info(), test_set.info()"
   ]
  },
  {
   "cell_type": "code",
   "execution_count": 7,
   "metadata": {},
   "outputs": [],
   "source": [
    "train_y = train_set[[\"class\"]]\n",
    "train_X = train_set.drop(\"class\", axis=1)\n",
    "test_y = test_set[[\"class\"]]\n",
    "test_X = test_set.drop(\"class\", axis=1)"
   ]
  },
  {
   "cell_type": "code",
   "execution_count": 8,
   "metadata": {},
   "outputs": [
    {
     "data": {
      "text/plain": [
       "MLPClassifier(activation='relu', alpha=0.0001, batch_size='auto', beta_1=0.9,\n",
       "              beta_2=0.999, early_stopping=False, epsilon=1e-08,\n",
       "              hidden_layer_sizes=(100,), learning_rate='constant',\n",
       "              learning_rate_init=0.001, max_fun=15000, max_iter=200,\n",
       "              momentum=0.9, n_iter_no_change=10, nesterovs_momentum=True,\n",
       "              power_t=0.5, random_state=None, shuffle=True, solver='adam',\n",
       "              tol=0.0001, validation_fraction=0.1, verbose=False,\n",
       "              warm_start=False)"
      ]
     },
     "execution_count": 8,
     "metadata": {},
     "output_type": "execute_result"
    }
   ],
   "source": [
    "import warnings\n",
    "from sklearn.exceptions import ConvergenceWarning\n",
    "warnings.filterwarnings(\"ignore\", category=ConvergenceWarning)\n",
    "from sklearn.neural_network import MLPClassifier\n",
    "neural_net = MLPClassifier()\n",
    "neural_net.fit(train_X, train_y.values.ravel())"
   ]
  },
  {
   "cell_type": "code",
   "execution_count": 9,
   "metadata": {},
   "outputs": [
    {
     "name": "stdout",
     "output_type": "stream",
     "text": [
      "0.93425\n",
      "              precision    recall  f1-score   support\n",
      "\n",
      "           1       0.93      0.94      0.94      1262\n",
      "           2       0.93      0.94      0.93      1610\n",
      "           3       0.94      0.93      0.93      1128\n",
      "\n",
      "    accuracy                           0.93      4000\n",
      "   macro avg       0.93      0.93      0.93      4000\n",
      "weighted avg       0.93      0.93      0.93      4000\n",
      "\n"
     ]
    }
   ],
   "source": [
    "# first net results\n",
    "from sklearn.metrics import roc_auc_score, accuracy_score, classification_report\n",
    "ufc_train_predictions = neural_net.predict(train_X)\n",
    "accuracy = accuracy_score(train_y, ufc_train_predictions)\n",
    "print(accuracy)\n",
    "print(classification_report(train_y, ufc_train_predictions))"
   ]
  },
  {
   "cell_type": "code",
   "execution_count": 10,
   "metadata": {},
   "outputs": [
    {
     "data": {
      "text/plain": [
       "(array([0.92248248, 0.93743783, 0.93284071, 0.94497749, 0.9100434 ,\n",
       "        0.93995384, 0.91993452, 0.89443017, 0.9099556 , 0.94260737]),\n",
       " 0.9254663424899802)"
      ]
     },
     "execution_count": 10,
     "metadata": {},
     "output_type": "execute_result"
    }
   ],
   "source": [
    "# simple cross val scores\n",
    "from sklearn.model_selection import cross_val_score\n",
    "scores = cross_val_score(neural_net, train_X, train_y.values.ravel(),\n",
    "                         scoring=\"f1_weighted\", cv=10)\n",
    "scores, scores.mean()"
   ]
  },
  {
   "cell_type": "code",
   "execution_count": 11,
   "metadata": {},
   "outputs": [],
   "source": [
    "# stratified cross validation\n",
    "from sklearn.model_selection import StratifiedKFold\n",
    "from sklearn.base import clone\n",
    "\n",
    "def stratFold(train_X_all, train_y_all, classifier, metric, average=None,\n",
    "              fold=5):\n",
    "    train_metric, val_metric, indices = [], [], []\n",
    "    for m in range(100, len(train_X_all), 100):\n",
    "        train_X = train_X_all[:m]\n",
    "        train_y = train_y_all[:m]\n",
    "        skfolds = StratifiedKFold(n_splits=fold)\n",
    "        metric_list = []\n",
    "        metric_list_train = []\n",
    "        for train_index, test_index in skfolds.split(train_X, train_y):\n",
    "            train_X_folds = train_X.iloc[train_index]\n",
    "            train_y_folds = train_y.iloc[train_index]\n",
    "            test_X_fold = train_X.iloc[test_index]\n",
    "            test_y_fold = train_y.iloc[test_index]\n",
    "            classifier.fit(train_X_folds.values, train_y_folds.values.ravel())\n",
    "            train_y_folds_pred = classifier.predict(train_X_folds)\n",
    "            test_y_fold_pred = classifier.predict(test_X_fold)\n",
    "            if average:\n",
    "                metric_list.append(metric(test_y_fold.values, test_y_fold_pred,\n",
    "                                     average=average))\n",
    "                metric_list_train.append(metric(train_y_folds.values, train_y_folds_pred, \n",
    "                                            average=average))\n",
    "            else:\n",
    "                metric_list.append(metric(test_y_fold.values, test_y_fold_pred))\n",
    "                metric_list_train.append(metric(train_y_folds.values, train_y_folds_pred))\n",
    "                \n",
    "        test_avg = sum(metric_list)/len(metric_list)\n",
    "        train_avg = sum(metric_list_train)/len(metric_list_train)\n",
    "        val_metric.append(test_avg)\n",
    "        train_metric.append(train_avg)\n",
    "        indices.append(m)\n",
    "    \n",
    "    return train_metric, val_metric, indices"
   ]
  },
  {
   "cell_type": "code",
   "execution_count": 12,
   "metadata": {},
   "outputs": [],
   "source": [
    "def plot_learning_curve(train_scores, val_scores, indices, title, inverse_x=False):\n",
    "    plt.plot(indices, train_scores , \"r-+\", linewidth=2, label=\"train\")\n",
    "    plt.plot(indices, val_scores, \"b-+\", linewidth=2, label=\"validation\")\n",
    "    plt.title(title)\n",
    "    plt.legend()\n",
    "    plt.grid(color='gray', linestyle='-', linewidth=0.5, alpha=0.3)\n",
    "    if inverse_x:\n",
    "        plt.gca().invert_xaxis()"
   ]
  },
  {
   "cell_type": "code",
   "execution_count": 13,
   "metadata": {},
   "outputs": [],
   "source": [
    "def plot_complexity(train_scores, val_scores, indices, title, inverse_x=True):\n",
    "    plt.plot(indices, train_scores , \"r-+\", linewidth=2, label=\"train\")\n",
    "    plt.plot(indices, val_scores, \"b-+\", linewidth=2, label=\"validation\")\n",
    "    plt.title(title)\n",
    "    plt.legend()\n",
    "    plt.grid(color='gray', linestyle='-', linewidth=0.5, alpha=0.3)\n",
    "    if inverse_x:\n",
    "        plt.gca().invert_xaxis()"
   ]
  },
  {
   "cell_type": "code",
   "execution_count": 14,
   "metadata": {},
   "outputs": [],
   "source": [
    "import matplotlib.pyplot as plt\n",
    "def plot_roc_curve(fpr, tpr, label=None):\n",
    "    plt.plot(fpr, tpr, linewidth=2, label=label)\n",
    "    plt.plot([0,1], [0,1], 'k--')\n",
    "    plt.axis([0,1,0,1])\n",
    "    plt.legend()\n",
    "    plt.xlabel('False Positive Rate')\n",
    "    plt.ylabel('True Positive Rate')\n"
   ]
  },
  {
   "cell_type": "code",
   "execution_count": 15,
   "metadata": {},
   "outputs": [
    {
     "data": {
      "text/plain": [
       "MLPClassifier(activation='relu', alpha=0.0001, batch_size='auto', beta_1=0.9,\n",
       "              beta_2=0.999, early_stopping=False, epsilon=1e-08,\n",
       "              hidden_layer_sizes=(100,), learning_rate='constant',\n",
       "              learning_rate_init=0.001, max_fun=15000, max_iter=200,\n",
       "              momentum=0.9, n_iter_no_change=10, nesterovs_momentum=True,\n",
       "              power_t=0.5, random_state=None, shuffle=True, solver='adam',\n",
       "              tol=0.0001, validation_fraction=0.1, verbose=False,\n",
       "              warm_start=False)"
      ]
     },
     "execution_count": 15,
     "metadata": {},
     "output_type": "execute_result"
    }
   ],
   "source": [
    "neural_net"
   ]
  },
  {
   "cell_type": "code",
   "execution_count": 16,
   "metadata": {},
   "outputs": [
    {
     "data": {
      "image/png": "[encoded data removed]",
      "text/plain": [
       "<Figure size 720x360 with 1 Axes>"
      ]
     },
     "metadata": {
      "needs_background": "light"
     },
     "output_type": "display_data"
    }
   ],
   "source": [
    "from sklearn.metrics import f1_score\n",
    "f1_scores = stratFold(train_X, train_y, neural_net, f1_score, \n",
    "                      average=\"weighted\")\n",
    "plot_learning_curve(f1_scores[0], f1_scores[1], f1_scores[2], \n",
    "                    title=\"f1_weighted score learning curve\")"
   ]
  },
  {
   "cell_type": "code",
   "execution_count": 17,
   "metadata": {},
   "outputs": [
    {
     "name": "stdout",
     "output_type": "stream",
     "text": [
      "MLPClassifier(activation='relu', alpha=0.001, batch_size='auto', beta_1=0.9,\n",
      "              beta_2=0.999, early_stopping=False, epsilon=1e-08,\n",
      "              hidden_layer_sizes=(30, 50), learning_rate='invscaling',\n",
      "              learning_rate_init=0.001, max_fun=15000, max_iter=200,\n",
      "              momentum=0.9, n_iter_no_change=10, nesterovs_momentum=True,\n",
      "              power_t=0.5, random_state=None, shuffle=True, solver='adam',\n",
      "              tol=0.0001, validation_fraction=0.1, verbose=False,\n",
      "              warm_start=False) 0.9246619853048113\n"
     ]
    },
    {
     "data": {
      "image/png": "[encoded data removed]",
      "text/plain": [
       "<Figure size 720x360 with 1 Axes>"
      ]
     },
     "metadata": {
      "needs_background": "light"
     },
     "output_type": "display_data"
    }
   ],
   "source": [
    "# check it with f1_weighted\n",
    "from sklearn.exceptions import ConvergenceWarning\n",
    "from sklearn.model_selection import GridSearchCV\n",
    "param_grid = {\n",
    "    'hidden_layer_sizes': [(3,5), (30,50), (200,400)],\n",
    "    \"alpha\" : [0.001, 0.0001],\n",
    "    'learning_rate': ['constant', 'invscaling'],\n",
    "}\n",
    "search_f1 = GridSearchCV(MLPClassifier(), param_grid, cv=10, \n",
    "                         scoring='f1_weighted', n_jobs=-1)\n",
    "search_f1.fit(train_X, train_y.values.ravel())\n",
    "\n",
    "print(search_f1.best_estimator_, search_f1.best_score_)\n",
    "\n",
    "from sklearn.metrics import f1_score\n",
    "f1_scores = stratFold(train_X, train_y, search_f1.best_estimator_, \n",
    "                      f1_score, average=\"weighted\")\n",
    "plot_learning_curve(f1_scores[0], f1_scores[1], f1_scores[2], title=\"f1_scores\")"
   ]
  },
  {
   "cell_type": "code",
   "execution_count": 18,
   "metadata": {},
   "outputs": [
    {
     "name": "stdout",
     "output_type": "stream",
     "text": [
      "MLPClassifier(activation='relu', alpha=0.01, batch_size='auto', beta_1=0.9,\n",
      "              beta_2=0.999, early_stopping=False, epsilon=1e-08,\n",
      "              hidden_layer_sizes=(50, 50), learning_rate='invscaling',\n",
      "              learning_rate_init=0.001, max_fun=15000, max_iter=200,\n",
      "              momentum=0.9, n_iter_no_change=10, nesterovs_momentum=True,\n",
      "              power_t=0.5, random_state=None, shuffle=True, solver='adam',\n",
      "              tol=0.0001, validation_fraction=0.1, verbose=False,\n",
      "              warm_start=False) 0.9249178307938649\n"
     ]
    },
    {
     "data": {
      "image/png": "[encoded data removed]",
      "text/plain": [
       "<Figure size 720x360 with 1 Axes>"
      ]
     },
     "metadata": {
      "needs_background": "light"
     },
     "output_type": "display_data"
    }
   ],
   "source": [
    "# check it with f1_weighted\n",
    "from sklearn.exceptions import ConvergenceWarning\n",
    "from sklearn.model_selection import GridSearchCV\n",
    "param_grid = {\n",
    "    'hidden_layer_sizes': [(50,50), (30,50), (50, 70)],\n",
    "    \"alpha\" : [0.01, 0.001],\n",
    "    'learning_rate': ['invscaling'],\n",
    "    'learning_rate_init': [0.01, 0.001, 0.0001]\n",
    "}\n",
    "search_f1 = GridSearchCV(MLPClassifier(), param_grid, cv=10, \n",
    "                         scoring='f1_weighted', n_jobs=-2)\n",
    "search_f1.fit(train_X, train_y.values.ravel())\n",
    "\n",
    "print(search_f1.best_estimator_, search_f1.best_score_)\n",
    "\n",
    "from sklearn.metrics import f1_score\n",
    "f1_scores = stratFold(train_X, train_y, search_f1.best_estimator_, \n",
    "                      f1_score, average=\"weighted\")\n",
    "plot_learning_curve(f1_scores[0], f1_scores[1], f1_scores[2], title=\"f1_scores\")"
   ]
  },
  {
   "cell_type": "code",
   "execution_count": 19,
   "metadata": {},
   "outputs": [
    {
     "name": "stdout",
     "output_type": "stream",
     "text": [
      "MLPClassifier(activation='relu', alpha=0.01, batch_size='auto', beta_1=0.9,\n",
      "              beta_2=0.999, early_stopping=False, epsilon=1e-08,\n",
      "              hidden_layer_sizes=(60, 60), learning_rate='invscaling',\n",
      "              learning_rate_init=0.001, max_fun=15000, max_iter=200,\n",
      "              momentum=0.9, n_iter_no_change=10, nesterovs_momentum=True,\n",
      "              power_t=0.5, random_state=None, shuffle=True, solver='adam',\n",
      "              tol=0.0001, validation_fraction=0.1, verbose=False,\n",
      "              warm_start=False) 0.9254547344334941\n"
     ]
    },
    {
     "data": {
      "image/png": "[encoded data removed]",
      "text/plain": [
       "<Figure size 720x360 with 1 Axes>"
      ]
     },
     "metadata": {
      "needs_background": "light"
     },
     "output_type": "display_data"
    }
   ],
   "source": [
    "# check it with f1_weighted\n",
    "from sklearn.exceptions import ConvergenceWarning\n",
    "from sklearn.model_selection import GridSearchCV\n",
    "param_grid = {\n",
    "    'hidden_layer_sizes': [(50,50), (60,60), (40, 40)],\n",
    "    \"alpha\" : [0.1, 0.01],\n",
    "    'learning_rate': ['invscaling'],\n",
    "}\n",
    "search_f1 = GridSearchCV(MLPClassifier(), param_grid, cv=10, \n",
    "                         scoring='f1_weighted', n_jobs=-2)\n",
    "search_f1.fit(train_X, train_y.values.ravel())\n",
    "\n",
    "print(search_f1.best_estimator_, search_f1.best_score_)\n",
    "\n",
    "from sklearn.metrics import f1_score\n",
    "f1_scores = stratFold(train_X, train_y, search_f1.best_estimator_, \n",
    "                      f1_score, average=\"weighted\")\n",
    "plot_learning_curve(f1_scores[0], f1_scores[1], f1_scores[2], title=\"f1_scores\")"
   ]
  },
  {
   "cell_type": "code",
   "execution_count": 20,
   "metadata": {},
   "outputs": [
    {
     "name": "stderr",
     "output_type": "stream",
     "text": [
      "[Parallel(n_jobs=-1)]: Using backend LokyBackend with 8 concurrent workers.\n",
      "[Parallel(n_jobs=-1)]: Done  80 out of  80 | elapsed:  1.6min finished\n"
     ]
    },
    {
     "name": "stdout",
     "output_type": "stream",
     "text": [
      "[0.94203222 0.94400679 0.94183724 0.94358416 0.93825693 0.93827088\n",
      " 0.92672356 0.92361749] [0.92623626 0.92112484 0.92016771 0.92472311 0.9244463  0.92312476\n",
      " 0.92348842 0.9229617 ] [0.0001, 0.001, 0.005, 0.01, 0.05, 0.1, 0.5, 1]\n"
     ]
    },
    {
     "data": {
      "image/png": "[encoded data removed]",
      "text/plain": [
       "<Figure size 720x360 with 1 Axes>"
      ]
     },
     "metadata": {
      "needs_background": "light"
     },
     "output_type": "display_data"
    }
   ],
   "source": [
    "from sklearn.model_selection import validation_curve\n",
    "net = MLPClassifier(activation='relu', alpha=0.1, batch_size='auto', beta_1=0.9,\n",
    "              beta_2=0.999, early_stopping=False, epsilon=1e-08,\n",
    "              hidden_layer_sizes=(60, 60), learning_rate='invscaling',\n",
    "              learning_rate_init=0.001, max_fun=15000, max_iter=200,\n",
    "              momentum=0.9, n_iter_no_change=10, nesterovs_momentum=True,\n",
    "              power_t=0.5, random_state=None, shuffle=True, solver='adam',\n",
    "              tol=0.0001, validation_fraction=0.1, verbose=False,\n",
    "              warm_start=False)\n",
    "\n",
    "param_range = [0.0001, 0.001, 0.005, 0.01, 0.05, 0.1, 0.5, 1]\n",
    "\n",
    "train_scores, test_scores = validation_curve(\n",
    "    net, train_X, train_y.values.ravel(), param_name=\"alpha\", \n",
    "    param_range=param_range, scoring='f1_weighted', verbose=1, cv=10, n_jobs=-1\n",
    ")\n",
    "print(train_scores.mean(axis=1), test_scores.mean(axis=1), param_range)\n",
    "plot_complexity(train_scores.mean(axis=1), test_scores.mean(axis=1), param_range, \n",
    "                title='f1_weighted on 2-layer alpha complexity curve', inverse_x=True)"
   ]
  },
  {
   "cell_type": "code",
   "execution_count": 21,
   "metadata": {},
   "outputs": [
    {
     "data": {
      "image/png": "[encoded data removed]",
      "text/plain": [
       "<Figure size 720x360 with 1 Axes>"
      ]
     },
     "metadata": {
      "needs_background": "light"
     },
     "output_type": "display_data"
    }
   ],
   "source": [
    "best_net = MLPClassifier(activation='relu', alpha=0.1, batch_size='auto', beta_1=0.9,\n",
    "              beta_2=0.999, early_stopping=False, epsilon=1e-08,\n",
    "              hidden_layer_sizes=(60, 60), learning_rate='invscaling',\n",
    "              learning_rate_init=0.001, max_fun=15000, max_iter=200,\n",
    "              momentum=0.9, n_iter_no_change=10, nesterovs_momentum=True,\n",
    "              power_t=0.5, random_state=None, shuffle=True, solver='adam',\n",
    "              tol=0.0001, validation_fraction=0.1, verbose=False,\n",
    "              warm_start=False)\n",
    "from sklearn.metrics import f1_score\n",
    "f1_scores = stratFold(train_X, train_y, best_net, \n",
    "                      f1_score, average=\"weighted\")\n",
    "plot_learning_curve(f1_scores[0], f1_scores[1], f1_scores[2], title=\"f1_scores\")"
   ]
  },
  {
   "cell_type": "code",
   "execution_count": 22,
   "metadata": {},
   "outputs": [
    {
     "name": "stdout",
     "output_type": "stream",
     "text": [
      "              precision    recall  f1-score   support\n",
      "\n",
      "           1    0.94249   0.93651   0.93949       315\n",
      "           2    0.94815   0.95285   0.95050       403\n",
      "           3    0.93972   0.93972   0.93972       282\n",
      "\n",
      "    accuracy                        0.94400      1000\n",
      "   macro avg    0.94345   0.94303   0.94323      1000\n",
      "weighted avg    0.94399   0.94400   0.94399      1000\n",
      "\n",
      "[[295  13   7]\n",
      " [  9 384  10]\n",
      " [  9   8 265]]\n"
     ]
    }
   ],
   "source": [
    "from sklearn.metrics import roc_curve, precision_score, accuracy_score, average_precision_score, recall_score, f1_score, classification_report, confusion_matrix\n",
    "\n",
    "best_net = MLPClassifier(activation='relu', alpha=0.1, batch_size='auto', beta_1=0.9,\n",
    "              beta_2=0.999, early_stopping=False, epsilon=1e-08,\n",
    "              hidden_layer_sizes=(60, 60), learning_rate='invscaling',\n",
    "              learning_rate_init=0.001, max_fun=15000, max_iter=200,\n",
    "              momentum=0.9, n_iter_no_change=10, nesterovs_momentum=True,\n",
    "              power_t=0.5, random_state=None, shuffle=True, solver='adam',\n",
    "              tol=0.0001, validation_fraction=0.1, verbose=False,\n",
    "              warm_start=False)\n",
    "\n",
    "\n",
    "best_net.fit(train_X, train_y.values.ravel())\n",
    "test_predictions = best_net.predict(test_X)\n",
    "print(classification_report(test_y, test_predictions, digits=5))\n",
    "print(confusion_matrix(test_y, test_predictions))"
   ]
  },
  {
   "cell_type": "code",
   "execution_count": null,
   "metadata": {},
   "outputs": [],
   "source": []
  }
 ],
 "metadata": {
  "kernelspec": {
   "display_name": "Python 3",
   "language": "python",
   "name": "python3"
  },
  "language_info": {
   "codemirror_mode": {
    "name": "ipython",
    "version": 3
   },
   "file_extension": ".py",
   "mimetype": "text/x-python",
   "name": "python",
   "nbconvert_exporter": "python",
   "pygments_lexer": "ipython3",
   "version": "3.7.5"
  }
 },
 "nbformat": 4,
 "nbformat_minor": 4
}
