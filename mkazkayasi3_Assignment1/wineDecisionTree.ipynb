{
 "cells": [
  {
   "cell_type": "code",
   "execution_count": 1,
   "metadata": {},
   "outputs": [],
   "source": [
    "import numpy as np\n",
    "import sklearn\n",
    "import pandas as pd\n",
    "from IPython.display import display\n",
    "from sklearn.model_selection import train_test_split\n",
    "pd.options.display.max_columns = None\n",
    "import matplotlib.pyplot as plt\n",
    "import matplotlib\n",
    "matplotlib.rc('figure', figsize=[10,5])\n"
   ]
  },
  {
   "cell_type": "code",
   "execution_count": 2,
   "metadata": {},
   "outputs": [
    {
     "name": "stdout",
     "output_type": "stream",
     "text": [
      "<class 'pandas.core.frame.DataFrame'>\n",
      "RangeIndex: 5000 entries, 0 to 4999\n",
      "Data columns (total 14 columns):\n",
      "class                      5000 non-null int64\n",
      "Alcohol                    5000 non-null float64\n",
      "Malic_acid                 5000 non-null float64\n",
      "Ash                        5000 non-null float64\n",
      "Alcalinity_of_ash          5000 non-null float64\n",
      "Magnesium                  5000 non-null float64\n",
      "Total_phenols              5000 non-null float64\n",
      "Flavanoids                 5000 non-null float64\n",
      "Nonflavanoid_phenols       5000 non-null float64\n",
      "Proanthocyanins            5000 non-null float64\n",
      "Color_intensity            5000 non-null float64\n",
      "Hue                        5000 non-null float64\n",
      "Od_Hod_of_diluted_wines    5000 non-null float64\n",
      "Proline                    5000 non-null float64\n",
      "dtypes: float64(13), int64(1)\n",
      "memory usage: 547.0 KB\n",
      "None\n"
     ]
    },
    {
     "data": {
      "text/html": [
       "<div>\n",
       "<style scoped>\n",
       "    .dataframe tbody tr th:only-of-type {\n",
       "        vertical-align: middle;\n",
       "    }\n",
       "\n",
       "    .dataframe tbody tr th {\n",
       "        vertical-align: top;\n",
       "    }\n",
       "\n",
       "    .dataframe thead th {\n",
       "        text-align: right;\n",
       "    }\n",
       "</style>\n",
       "<table border=\"1\" class=\"dataframe\">\n",
       "  <thead>\n",
       "    <tr style=\"text-align: right;\">\n",
       "      <th></th>\n",
       "      <th>class</th>\n",
       "      <th>Alcohol</th>\n",
       "      <th>Malic_acid</th>\n",
       "      <th>Ash</th>\n",
       "      <th>Alcalinity_of_ash</th>\n",
       "      <th>Magnesium</th>\n",
       "      <th>Total_phenols</th>\n",
       "      <th>Flavanoids</th>\n",
       "      <th>Nonflavanoid_phenols</th>\n",
       "      <th>Proanthocyanins</th>\n",
       "      <th>Color_intensity</th>\n",
       "      <th>Hue</th>\n",
       "      <th>Od_Hod_of_diluted_wines</th>\n",
       "      <th>Proline</th>\n",
       "    </tr>\n",
       "  </thead>\n",
       "  <tbody>\n",
       "    <tr>\n",
       "      <th>0</th>\n",
       "      <td>1</td>\n",
       "      <td>13.761443</td>\n",
       "      <td>0.972960</td>\n",
       "      <td>2.191146</td>\n",
       "      <td>14.349954</td>\n",
       "      <td>106.525734</td>\n",
       "      <td>2.288580</td>\n",
       "      <td>2.584551</td>\n",
       "      <td>0.418044</td>\n",
       "      <td>1.862804</td>\n",
       "      <td>3.086808</td>\n",
       "      <td>1.169861</td>\n",
       "      <td>2.819086</td>\n",
       "      <td>850.678431</td>\n",
       "    </tr>\n",
       "    <tr>\n",
       "      <th>1</th>\n",
       "      <td>2</td>\n",
       "      <td>11.897923</td>\n",
       "      <td>1.297780</td>\n",
       "      <td>2.199666</td>\n",
       "      <td>17.478054</td>\n",
       "      <td>104.205421</td>\n",
       "      <td>2.716657</td>\n",
       "      <td>1.855066</td>\n",
       "      <td>0.318077</td>\n",
       "      <td>1.029640</td>\n",
       "      <td>9.103668</td>\n",
       "      <td>1.353718</td>\n",
       "      <td>2.780333</td>\n",
       "      <td>332.922006</td>\n",
       "    </tr>\n",
       "    <tr>\n",
       "      <th>2</th>\n",
       "      <td>3</td>\n",
       "      <td>12.659632</td>\n",
       "      <td>1.748552</td>\n",
       "      <td>2.438597</td>\n",
       "      <td>21.584696</td>\n",
       "      <td>88.079451</td>\n",
       "      <td>1.919476</td>\n",
       "      <td>0.681341</td>\n",
       "      <td>0.538078</td>\n",
       "      <td>1.327974</td>\n",
       "      <td>8.803633</td>\n",
       "      <td>0.643678</td>\n",
       "      <td>1.569951</td>\n",
       "      <td>633.531687</td>\n",
       "    </tr>\n",
       "    <tr>\n",
       "      <th>3</th>\n",
       "      <td>1</td>\n",
       "      <td>13.054828</td>\n",
       "      <td>1.817559</td>\n",
       "      <td>1.893926</td>\n",
       "      <td>15.390157</td>\n",
       "      <td>108.589893</td>\n",
       "      <td>2.662509</td>\n",
       "      <td>2.815723</td>\n",
       "      <td>0.278535</td>\n",
       "      <td>1.473812</td>\n",
       "      <td>6.386732</td>\n",
       "      <td>0.820398</td>\n",
       "      <td>3.694865</td>\n",
       "      <td>880.103325</td>\n",
       "    </tr>\n",
       "    <tr>\n",
       "      <th>4</th>\n",
       "      <td>3</td>\n",
       "      <td>11.769431</td>\n",
       "      <td>3.017528</td>\n",
       "      <td>3.013448</td>\n",
       "      <td>17.081528</td>\n",
       "      <td>86.525235</td>\n",
       "      <td>2.224963</td>\n",
       "      <td>0.846229</td>\n",
       "      <td>0.286065</td>\n",
       "      <td>1.644007</td>\n",
       "      <td>10.383464</td>\n",
       "      <td>0.734288</td>\n",
       "      <td>2.747013</td>\n",
       "      <td>475.152492</td>\n",
       "    </tr>\n",
       "  </tbody>\n",
       "</table>\n",
       "</div>"
      ],
      "text/plain": [
       "   class    Alcohol  Malic_acid       Ash  Alcalinity_of_ash   Magnesium  \\\n",
       "0      1  13.761443    0.972960  2.191146          14.349954  106.525734   \n",
       "1      2  11.897923    1.297780  2.199666          17.478054  104.205421   \n",
       "2      3  12.659632    1.748552  2.438597          21.584696   88.079451   \n",
       "3      1  13.054828    1.817559  1.893926          15.390157  108.589893   \n",
       "4      3  11.769431    3.017528  3.013448          17.081528   86.525235   \n",
       "\n",
       "   Total_phenols  Flavanoids  Nonflavanoid_phenols  Proanthocyanins  \\\n",
       "0       2.288580    2.584551              0.418044         1.862804   \n",
       "1       2.716657    1.855066              0.318077         1.029640   \n",
       "2       1.919476    0.681341              0.538078         1.327974   \n",
       "3       2.662509    2.815723              0.278535         1.473812   \n",
       "4       2.224963    0.846229              0.286065         1.644007   \n",
       "\n",
       "   Color_intensity       Hue  Od_Hod_of_diluted_wines     Proline  \n",
       "0         3.086808  1.169861                 2.819086  850.678431  \n",
       "1         9.103668  1.353718                 2.780333  332.922006  \n",
       "2         8.803633  0.643678                 1.569951  633.531687  \n",
       "3         6.386732  0.820398                 3.694865  880.103325  \n",
       "4        10.383464  0.734288                 2.747013  475.152492  "
      ]
     },
     "execution_count": 2,
     "metadata": {},
     "output_type": "execute_result"
    }
   ],
   "source": [
    "np.random.seed(44)\n",
    "wine_dataset = pd.read_csv(\"wine_dataset.csv\")\n",
    "print(wine_dataset.info())\n",
    "wine_dataset.head()"
   ]
  },
  {
   "cell_type": "code",
   "execution_count": 3,
   "metadata": {},
   "outputs": [
    {
     "name": "stdout",
     "output_type": "stream",
     "text": [
      "(5000, 14)\n"
     ]
    },
    {
     "data": {
      "text/plain": [
       "False"
      ]
     },
     "execution_count": 3,
     "metadata": {},
     "output_type": "execute_result"
    }
   ],
   "source": [
    "# no null data\n",
    "print(wine_dataset.shape)\n",
    "wine_dataset.isna().any().any()"
   ]
  },
  {
   "cell_type": "code",
   "execution_count": 4,
   "metadata": {
    "scrolled": true
   },
   "outputs": [
    {
     "data": {
      "text/html": [
       "<div>\n",
       "<style scoped>\n",
       "    .dataframe tbody tr th:only-of-type {\n",
       "        vertical-align: middle;\n",
       "    }\n",
       "\n",
       "    .dataframe tbody tr th {\n",
       "        vertical-align: top;\n",
       "    }\n",
       "\n",
       "    .dataframe thead th {\n",
       "        text-align: right;\n",
       "    }\n",
       "</style>\n",
       "<table border=\"1\" class=\"dataframe\">\n",
       "  <thead>\n",
       "    <tr style=\"text-align: right;\">\n",
       "      <th></th>\n",
       "      <th>class</th>\n",
       "      <th>Alcohol</th>\n",
       "      <th>Malic_acid</th>\n",
       "      <th>Ash</th>\n",
       "      <th>Alcalinity_of_ash</th>\n",
       "      <th>Magnesium</th>\n",
       "      <th>Total_phenols</th>\n",
       "      <th>Flavanoids</th>\n",
       "      <th>Nonflavanoid_phenols</th>\n",
       "      <th>Proanthocyanins</th>\n",
       "      <th>Color_intensity</th>\n",
       "      <th>Hue</th>\n",
       "      <th>Od_Hod_of_diluted_wines</th>\n",
       "      <th>Proline</th>\n",
       "    </tr>\n",
       "  </thead>\n",
       "  <tbody>\n",
       "    <tr>\n",
       "      <th>count</th>\n",
       "      <td>5000.000000</td>\n",
       "      <td>5000.000000</td>\n",
       "      <td>5000.000000</td>\n",
       "      <td>5000.000000</td>\n",
       "      <td>5000.000000</td>\n",
       "      <td>5000.000000</td>\n",
       "      <td>5000.000000</td>\n",
       "      <td>5000.000000</td>\n",
       "      <td>5000.000000</td>\n",
       "      <td>5000.000000</td>\n",
       "      <td>5000.000000</td>\n",
       "      <td>5000.000000</td>\n",
       "      <td>5000.000000</td>\n",
       "      <td>5000.000000</td>\n",
       "    </tr>\n",
       "    <tr>\n",
       "      <th>mean</th>\n",
       "      <td>1.966600</td>\n",
       "      <td>12.995186</td>\n",
       "      <td>2.330916</td>\n",
       "      <td>2.370151</td>\n",
       "      <td>19.496761</td>\n",
       "      <td>99.072699</td>\n",
       "      <td>2.300694</td>\n",
       "      <td>2.057249</td>\n",
       "      <td>0.362036</td>\n",
       "      <td>1.590397</td>\n",
       "      <td>5.086170</td>\n",
       "      <td>0.962753</td>\n",
       "      <td>2.609474</td>\n",
       "      <td>744.635286</td>\n",
       "    </tr>\n",
       "    <tr>\n",
       "      <th>std</th>\n",
       "      <td>0.772272</td>\n",
       "      <td>0.814378</td>\n",
       "      <td>1.118433</td>\n",
       "      <td>0.274757</td>\n",
       "      <td>3.351535</td>\n",
       "      <td>13.951364</td>\n",
       "      <td>0.617459</td>\n",
       "      <td>0.992019</td>\n",
       "      <td>0.124728</td>\n",
       "      <td>0.566114</td>\n",
       "      <td>2.337002</td>\n",
       "      <td>0.225385</td>\n",
       "      <td>0.704532</td>\n",
       "      <td>313.348736</td>\n",
       "    </tr>\n",
       "    <tr>\n",
       "      <th>min</th>\n",
       "      <td>1.000000</td>\n",
       "      <td>10.991005</td>\n",
       "      <td>0.478367</td>\n",
       "      <td>1.447951</td>\n",
       "      <td>10.366806</td>\n",
       "      <td>68.871553</td>\n",
       "      <td>0.969383</td>\n",
       "      <td>0.277914</td>\n",
       "      <td>0.109327</td>\n",
       "      <td>0.099295</td>\n",
       "      <td>1.129366</td>\n",
       "      <td>0.414259</td>\n",
       "      <td>1.112145</td>\n",
       "      <td>231.883252</td>\n",
       "    </tr>\n",
       "    <tr>\n",
       "      <th>25%</th>\n",
       "      <td>1.000000</td>\n",
       "      <td>12.386367</td>\n",
       "      <td>1.592804</td>\n",
       "      <td>2.236354</td>\n",
       "      <td>17.372474</td>\n",
       "      <td>88.827615</td>\n",
       "      <td>1.791985</td>\n",
       "      <td>1.223907</td>\n",
       "      <td>0.270011</td>\n",
       "      <td>1.238714</td>\n",
       "      <td>3.271563</td>\n",
       "      <td>0.802881</td>\n",
       "      <td>1.996074</td>\n",
       "      <td>507.083531</td>\n",
       "    </tr>\n",
       "    <tr>\n",
       "      <th>50%</th>\n",
       "      <td>2.000000</td>\n",
       "      <td>13.026910</td>\n",
       "      <td>1.867287</td>\n",
       "      <td>2.369439</td>\n",
       "      <td>19.383204</td>\n",
       "      <td>97.561288</td>\n",
       "      <td>2.324534</td>\n",
       "      <td>2.138558</td>\n",
       "      <td>0.335067</td>\n",
       "      <td>1.546307</td>\n",
       "      <td>4.745564</td>\n",
       "      <td>0.977078</td>\n",
       "      <td>2.770427</td>\n",
       "      <td>665.609642</td>\n",
       "    </tr>\n",
       "    <tr>\n",
       "      <th>75%</th>\n",
       "      <td>3.000000</td>\n",
       "      <td>13.624393</td>\n",
       "      <td>2.940638</td>\n",
       "      <td>2.542378</td>\n",
       "      <td>21.429700</td>\n",
       "      <td>105.978061</td>\n",
       "      <td>2.755317</td>\n",
       "      <td>2.808482</td>\n",
       "      <td>0.442366</td>\n",
       "      <td>1.888451</td>\n",
       "      <td>6.214175</td>\n",
       "      <td>1.104621</td>\n",
       "      <td>3.146930</td>\n",
       "      <td>948.204369</td>\n",
       "    </tr>\n",
       "    <tr>\n",
       "      <th>max</th>\n",
       "      <td>3.000000</td>\n",
       "      <td>14.802882</td>\n",
       "      <td>6.242546</td>\n",
       "      <td>3.167812</td>\n",
       "      <td>30.236014</td>\n",
       "      <td>164.765854</td>\n",
       "      <td>3.882879</td>\n",
       "      <td>4.397836</td>\n",
       "      <td>0.756410</td>\n",
       "      <td>3.700137</td>\n",
       "      <td>13.120260</td>\n",
       "      <td>1.603007</td>\n",
       "      <td>4.032795</td>\n",
       "      <td>1782.712893</td>\n",
       "    </tr>\n",
       "  </tbody>\n",
       "</table>\n",
       "</div>"
      ],
      "text/plain": [
       "             class      Alcohol   Malic_acid          Ash  Alcalinity_of_ash  \\\n",
       "count  5000.000000  5000.000000  5000.000000  5000.000000        5000.000000   \n",
       "mean      1.966600    12.995186     2.330916     2.370151          19.496761   \n",
       "std       0.772272     0.814378     1.118433     0.274757           3.351535   \n",
       "min       1.000000    10.991005     0.478367     1.447951          10.366806   \n",
       "25%       1.000000    12.386367     1.592804     2.236354          17.372474   \n",
       "50%       2.000000    13.026910     1.867287     2.369439          19.383204   \n",
       "75%       3.000000    13.624393     2.940638     2.542378          21.429700   \n",
       "max       3.000000    14.802882     6.242546     3.167812          30.236014   \n",
       "\n",
       "         Magnesium  Total_phenols   Flavanoids  Nonflavanoid_phenols  \\\n",
       "count  5000.000000    5000.000000  5000.000000           5000.000000   \n",
       "mean     99.072699       2.300694     2.057249              0.362036   \n",
       "std      13.951364       0.617459     0.992019              0.124728   \n",
       "min      68.871553       0.969383     0.277914              0.109327   \n",
       "25%      88.827615       1.791985     1.223907              0.270011   \n",
       "50%      97.561288       2.324534     2.138558              0.335067   \n",
       "75%     105.978061       2.755317     2.808482              0.442366   \n",
       "max     164.765854       3.882879     4.397836              0.756410   \n",
       "\n",
       "       Proanthocyanins  Color_intensity          Hue  Od_Hod_of_diluted_wines  \\\n",
       "count      5000.000000      5000.000000  5000.000000              5000.000000   \n",
       "mean          1.590397         5.086170     0.962753                 2.609474   \n",
       "std           0.566114         2.337002     0.225385                 0.704532   \n",
       "min           0.099295         1.129366     0.414259                 1.112145   \n",
       "25%           1.238714         3.271563     0.802881                 1.996074   \n",
       "50%           1.546307         4.745564     0.977078                 2.770427   \n",
       "75%           1.888451         6.214175     1.104621                 3.146930   \n",
       "max           3.700137        13.120260     1.603007                 4.032795   \n",
       "\n",
       "           Proline  \n",
       "count  5000.000000  \n",
       "mean    744.635286  \n",
       "std     313.348736  \n",
       "min     231.883252  \n",
       "25%     507.083531  \n",
       "50%     665.609642  \n",
       "75%     948.204369  \n",
       "max    1782.712893  "
      ]
     },
     "execution_count": 4,
     "metadata": {},
     "output_type": "execute_result"
    }
   ],
   "source": [
    "wine_dataset.describe()"
   ]
  },
  {
   "cell_type": "code",
   "execution_count": 5,
   "metadata": {},
   "outputs": [
    {
     "name": "stdout",
     "output_type": "stream",
     "text": [
      "(5000, 14)\n",
      "(5000, 14)\n"
     ]
    },
    {
     "data": {
      "text/html": [
       "<div>\n",
       "<style scoped>\n",
       "    .dataframe tbody tr th:only-of-type {\n",
       "        vertical-align: middle;\n",
       "    }\n",
       "\n",
       "    .dataframe tbody tr th {\n",
       "        vertical-align: top;\n",
       "    }\n",
       "\n",
       "    .dataframe thead th {\n",
       "        text-align: right;\n",
       "    }\n",
       "</style>\n",
       "<table border=\"1\" class=\"dataframe\">\n",
       "  <thead>\n",
       "    <tr style=\"text-align: right;\">\n",
       "      <th></th>\n",
       "      <th>class</th>\n",
       "      <th>Alcohol</th>\n",
       "      <th>Malic_acid</th>\n",
       "      <th>Ash</th>\n",
       "      <th>Alcalinity_of_ash</th>\n",
       "      <th>Magnesium</th>\n",
       "      <th>Total_phenols</th>\n",
       "      <th>Flavanoids</th>\n",
       "      <th>Nonflavanoid_phenols</th>\n",
       "      <th>Proanthocyanins</th>\n",
       "      <th>Color_intensity</th>\n",
       "      <th>Hue</th>\n",
       "      <th>Od_Hod_of_diluted_wines</th>\n",
       "      <th>Proline</th>\n",
       "    </tr>\n",
       "  </thead>\n",
       "  <tbody>\n",
       "    <tr>\n",
       "      <th>0</th>\n",
       "      <td>1</td>\n",
       "      <td>0.726791</td>\n",
       "      <td>0.085805</td>\n",
       "      <td>0.432125</td>\n",
       "      <td>0.200468</td>\n",
       "      <td>0.392663</td>\n",
       "      <td>0.452788</td>\n",
       "      <td>0.559874</td>\n",
       "      <td>0.477090</td>\n",
       "      <td>0.489749</td>\n",
       "      <td>0.163244</td>\n",
       "      <td>0.635628</td>\n",
       "      <td>0.584439</td>\n",
       "      <td>0.399009</td>\n",
       "    </tr>\n",
       "    <tr>\n",
       "      <th>1</th>\n",
       "      <td>2</td>\n",
       "      <td>0.237919</td>\n",
       "      <td>0.142156</td>\n",
       "      <td>0.437079</td>\n",
       "      <td>0.357903</td>\n",
       "      <td>0.368467</td>\n",
       "      <td>0.599717</td>\n",
       "      <td>0.382811</td>\n",
       "      <td>0.322602</td>\n",
       "      <td>0.258369</td>\n",
       "      <td>0.665030</td>\n",
       "      <td>0.790293</td>\n",
       "      <td>0.571170</td>\n",
       "      <td>0.065151</td>\n",
       "    </tr>\n",
       "    <tr>\n",
       "      <th>2</th>\n",
       "      <td>3</td>\n",
       "      <td>0.437744</td>\n",
       "      <td>0.220358</td>\n",
       "      <td>0.576004</td>\n",
       "      <td>0.564587</td>\n",
       "      <td>0.200303</td>\n",
       "      <td>0.326101</td>\n",
       "      <td>0.097921</td>\n",
       "      <td>0.662590</td>\n",
       "      <td>0.341220</td>\n",
       "      <td>0.640008</td>\n",
       "      <td>0.192992</td>\n",
       "      <td>0.156748</td>\n",
       "      <td>0.258989</td>\n",
       "    </tr>\n",
       "    <tr>\n",
       "      <th>3</th>\n",
       "      <td>1</td>\n",
       "      <td>0.541419</td>\n",
       "      <td>0.232330</td>\n",
       "      <td>0.259309</td>\n",
       "      <td>0.252821</td>\n",
       "      <td>0.414189</td>\n",
       "      <td>0.581132</td>\n",
       "      <td>0.615985</td>\n",
       "      <td>0.261494</td>\n",
       "      <td>0.381721</td>\n",
       "      <td>0.438447</td>\n",
       "      <td>0.341653</td>\n",
       "      <td>0.884296</td>\n",
       "      <td>0.417983</td>\n",
       "    </tr>\n",
       "    <tr>\n",
       "      <th>4</th>\n",
       "      <td>3</td>\n",
       "      <td>0.204211</td>\n",
       "      <td>0.440507</td>\n",
       "      <td>0.910246</td>\n",
       "      <td>0.337946</td>\n",
       "      <td>0.184095</td>\n",
       "      <td>0.430953</td>\n",
       "      <td>0.137943</td>\n",
       "      <td>0.273130</td>\n",
       "      <td>0.428986</td>\n",
       "      <td>0.771760</td>\n",
       "      <td>0.269215</td>\n",
       "      <td>0.559762</td>\n",
       "      <td>0.156864</td>\n",
       "    </tr>\n",
       "  </tbody>\n",
       "</table>\n",
       "</div>"
      ],
      "text/plain": [
       "   class   Alcohol  Malic_acid       Ash  Alcalinity_of_ash  Magnesium  \\\n",
       "0      1  0.726791    0.085805  0.432125           0.200468   0.392663   \n",
       "1      2  0.237919    0.142156  0.437079           0.357903   0.368467   \n",
       "2      3  0.437744    0.220358  0.576004           0.564587   0.200303   \n",
       "3      1  0.541419    0.232330  0.259309           0.252821   0.414189   \n",
       "4      3  0.204211    0.440507  0.910246           0.337946   0.184095   \n",
       "\n",
       "   Total_phenols  Flavanoids  Nonflavanoid_phenols  Proanthocyanins  \\\n",
       "0       0.452788    0.559874              0.477090         0.489749   \n",
       "1       0.599717    0.382811              0.322602         0.258369   \n",
       "2       0.326101    0.097921              0.662590         0.341220   \n",
       "3       0.581132    0.615985              0.261494         0.381721   \n",
       "4       0.430953    0.137943              0.273130         0.428986   \n",
       "\n",
       "   Color_intensity       Hue  Od_Hod_of_diluted_wines   Proline  \n",
       "0         0.163244  0.635628                 0.584439  0.399009  \n",
       "1         0.665030  0.790293                 0.571170  0.065151  \n",
       "2         0.640008  0.192992                 0.156748  0.258989  \n",
       "3         0.438447  0.341653                 0.884296  0.417983  \n",
       "4         0.771760  0.269215                 0.559762  0.156864  "
      ]
     },
     "execution_count": 5,
     "metadata": {},
     "output_type": "execute_result"
    }
   ],
   "source": [
    "# normalize features for better performance \n",
    "from sklearn import preprocessing\n",
    "target = wine_dataset[\"class\"]\n",
    "x = wine_dataset.values # convert to numpy array\n",
    "print(x.shape)\n",
    "min_max_scaler = preprocessing.MinMaxScaler()\n",
    "x_scaled = min_max_scaler.fit_transform(x)\n",
    "print(x_scaled.shape)\n",
    "wine_dataset = pd.DataFrame(x_scaled, columns=wine_dataset.columns)\n",
    "wine_dataset[\"class\"] = target\n",
    "wine_dataset.head()"
   ]
  },
  {
   "cell_type": "code",
   "execution_count": 6,
   "metadata": {},
   "outputs": [],
   "source": [
    "# stratified sampling\n",
    "from sklearn.model_selection import StratifiedShuffleSplit\n",
    "\n",
    "split = StratifiedShuffleSplit(n_splits=1 , test_size=0.2, random_state=30)\n",
    "for train_ind, test_ind in split.split(wine_dataset, wine_dataset[\"class\"]):\n",
    "    strat_train_set = wine_dataset.loc[train_ind]\n",
    "    strat_test_set = wine_dataset.loc[test_ind]"
   ]
  },
  {
   "cell_type": "code",
   "execution_count": 7,
   "metadata": {},
   "outputs": [],
   "source": [
    "train_set = strat_train_set\n",
    "test_set = strat_test_set"
   ]
  },
  {
   "cell_type": "code",
   "execution_count": 8,
   "metadata": {},
   "outputs": [
    {
     "name": "stdout",
     "output_type": "stream",
     "text": [
      "<class 'pandas.core.frame.DataFrame'>\n",
      "Int64Index: 4000 entries, 1725 to 3709\n",
      "Data columns (total 14 columns):\n",
      "class                      4000 non-null int64\n",
      "Alcohol                    4000 non-null float64\n",
      "Malic_acid                 4000 non-null float64\n",
      "Ash                        4000 non-null float64\n",
      "Alcalinity_of_ash          4000 non-null float64\n",
      "Magnesium                  4000 non-null float64\n",
      "Total_phenols              4000 non-null float64\n",
      "Flavanoids                 4000 non-null float64\n",
      "Nonflavanoid_phenols       4000 non-null float64\n",
      "Proanthocyanins            4000 non-null float64\n",
      "Color_intensity            4000 non-null float64\n",
      "Hue                        4000 non-null float64\n",
      "Od_Hod_of_diluted_wines    4000 non-null float64\n",
      "Proline                    4000 non-null float64\n",
      "dtypes: float64(13), int64(1)\n",
      "memory usage: 468.8 KB\n",
      "<class 'pandas.core.frame.DataFrame'>\n",
      "Int64Index: 1000 entries, 387 to 4415\n",
      "Data columns (total 14 columns):\n",
      "class                      1000 non-null int64\n",
      "Alcohol                    1000 non-null float64\n",
      "Malic_acid                 1000 non-null float64\n",
      "Ash                        1000 non-null float64\n",
      "Alcalinity_of_ash          1000 non-null float64\n",
      "Magnesium                  1000 non-null float64\n",
      "Total_phenols              1000 non-null float64\n",
      "Flavanoids                 1000 non-null float64\n",
      "Nonflavanoid_phenols       1000 non-null float64\n",
      "Proanthocyanins            1000 non-null float64\n",
      "Color_intensity            1000 non-null float64\n",
      "Hue                        1000 non-null float64\n",
      "Od_Hod_of_diluted_wines    1000 non-null float64\n",
      "Proline                    1000 non-null float64\n",
      "dtypes: float64(13), int64(1)\n",
      "memory usage: 117.2 KB\n"
     ]
    },
    {
     "data": {
      "text/plain": [
       "(None, None)"
      ]
     },
     "execution_count": 8,
     "metadata": {},
     "output_type": "execute_result"
    }
   ],
   "source": [
    "# stratified sampling is not needed\n",
    "train_set.info(), test_set.info()"
   ]
  },
  {
   "cell_type": "code",
   "execution_count": 9,
   "metadata": {},
   "outputs": [],
   "source": [
    "train_y = train_set[[\"class\"]]\n",
    "train_X = train_set.drop(\"class\", axis=1)\n",
    "test_y = test_set[[\"class\"]]\n",
    "test_X = test_set.drop(\"class\", axis=1)"
   ]
  },
  {
   "cell_type": "code",
   "execution_count": 10,
   "metadata": {},
   "outputs": [
    {
     "data": {
      "text/plain": [
       "DecisionTreeClassifier(ccp_alpha=0.005, class_weight=None, criterion='entropy',\n",
       "                       max_depth=None, max_features=None, max_leaf_nodes=None,\n",
       "                       min_impurity_decrease=0.0, min_impurity_split=None,\n",
       "                       min_samples_leaf=1, min_samples_split=2,\n",
       "                       min_weight_fraction_leaf=0.0, presort='deprecated',\n",
       "                       random_state=None, splitter='best')"
      ]
     },
     "execution_count": 10,
     "metadata": {},
     "output_type": "execute_result"
    }
   ],
   "source": [
    "# simple decision tree\n",
    "from sklearn.tree import DecisionTreeClassifier\n",
    "tree_classifier = DecisionTreeClassifier(ccp_alpha=0.005, criterion='entropy')\n",
    "tree_classifier.fit(train_X, train_y)"
   ]
  },
  {
   "cell_type": "code",
   "execution_count": 11,
   "metadata": {},
   "outputs": [
    {
     "name": "stdout",
     "output_type": "stream",
     "text": [
      "0.9237032878104466\n"
     ]
    }
   ],
   "source": [
    "# simple decision tree results\n",
    "from sklearn.metrics import roc_auc_score, accuracy_score, f1_score\n",
    "ufc_train_predictions = tree_classifier.predict(train_X)\n",
    "accuracy = accuracy_score(train_y, ufc_train_predictions)\n",
    "print(f1_score(train_y, ufc_train_predictions, average=\"weighted\"))\n"
   ]
  },
  {
   "cell_type": "code",
   "execution_count": 12,
   "metadata": {},
   "outputs": [
    {
     "data": {
      "text/plain": [
       "(array([0.91001817, 0.89991135, 0.91024611, 0.92315306, 0.89473724,\n",
       "        0.91514602, 0.89790337, 0.86717179, 0.89746528, 0.91758975]),\n",
       " 0.9033342135729221)"
      ]
     },
     "execution_count": 12,
     "metadata": {},
     "output_type": "execute_result"
    }
   ],
   "source": [
    "# simple cross val scores\n",
    "from sklearn.model_selection import cross_val_score\n",
    "scores = cross_val_score(tree_classifier, train_X, train_y,\n",
    "                         scoring=\"f1_weighted\", cv=10)\n",
    "scores, scores.mean()"
   ]
  },
  {
   "cell_type": "code",
   "execution_count": 13,
   "metadata": {},
   "outputs": [],
   "source": [
    "# stratified cross validation\n",
    "from sklearn.model_selection import StratifiedKFold\n",
    "from sklearn.base import clone\n",
    "\n",
    "def stratFold(train_X_all, train_y_all, classifier, metric, average=None,\n",
    "              fold=5):\n",
    "    train_metric, val_metric, indices = [], [], []\n",
    "    for m in range(100, len(train_X_all), 100):\n",
    "        train_X = train_X_all[:m]\n",
    "        train_y = train_y_all[:m]\n",
    "        skfolds = StratifiedKFold(n_splits=fold)\n",
    "        metric_list = []\n",
    "        metric_list_train = []\n",
    "        for train_index, test_index in skfolds.split(train_X, train_y):\n",
    "            train_X_folds = train_X.iloc[train_index]\n",
    "            train_y_folds = train_y.iloc[train_index]\n",
    "            test_X_fold = train_X.iloc[test_index]\n",
    "            test_y_fold = train_y.iloc[test_index]\n",
    "            classifier.fit(train_X_folds.values, train_y_folds.values)\n",
    "            train_y_folds_pred = classifier.predict(train_X_folds)\n",
    "            test_y_fold_pred = classifier.predict(test_X_fold)\n",
    "            if average:\n",
    "                metric_list.append(metric(test_y_fold.values, test_y_fold_pred,\n",
    "                                     average=average))\n",
    "                metric_list_train.append(metric(train_y_folds.values, train_y_folds_pred, \n",
    "                                            average=average))\n",
    "            else:\n",
    "                metric_list.append(metric(test_y_fold.values, test_y_fold_pred))\n",
    "                metric_list_train.append(metric(train_y_folds.values, train_y_folds_pred))\n",
    "                \n",
    "        test_avg = sum(metric_list)/len(metric_list)\n",
    "        train_avg = sum(metric_list_train)/len(metric_list_train)\n",
    "        val_metric.append(test_avg)\n",
    "        train_metric.append(train_avg)\n",
    "        indices.append(m)\n",
    "    \n",
    "    return train_metric, val_metric, indices"
   ]
  },
  {
   "cell_type": "code",
   "execution_count": 14,
   "metadata": {},
   "outputs": [],
   "source": [
    "def plot_learning_curve(train_scores, val_scores, indices, title, inverse_x=False):\n",
    "    plt.plot(indices, train_scores , \"r-+\", linewidth=2, label=\"train\")\n",
    "    plt.plot(indices, val_scores, \"b-+\", linewidth=2, label=\"validation\")\n",
    "    plt.title(title)\n",
    "    plt.legend()\n",
    "    plt.xlabel('Number of Training Instances Used')\n",
    "    plt.grid(color='gray', linestyle='-', linewidth=0.5, alpha=0.3)\n",
    "    if inverse_x:\n",
    "        plt.gca().invert_xaxis()"
   ]
  },
  {
   "cell_type": "code",
   "execution_count": 15,
   "metadata": {},
   "outputs": [],
   "source": [
    "def plot_complexity(train_scores, val_scores, indices, title, inverse_x=False):\n",
    "    plt.plot(indices, train_scores , \"r-+\", linewidth=2, label=\"train\")\n",
    "    plt.plot(indices, val_scores, \"b-+\", linewidth=2, label=\"validation\")\n",
    "    plt.title(title)\n",
    "    plt.legend()\n",
    "    plt.grid(color='gray', linestyle='-', linewidth=0.5, alpha=0.3)\n",
    "    plt.gca().invert_xaxis()"
   ]
  },
  {
   "cell_type": "code",
   "execution_count": 16,
   "metadata": {},
   "outputs": [],
   "source": [
    "import matplotlib.pyplot as plt\n",
    "def plot_roc_curve(fpr, tpr, label=None):\n",
    "    plt.plot(fpr, tpr, linewidth=2, label=label)\n",
    "    plt.plot([0,1], [0,1], 'k--')\n",
    "    plt.axis([0,1,0,1])\n",
    "    plt.legend()\n",
    "    plt.xlabel('False Positive Rate')\n",
    "    plt.ylabel('True Positive Rate')\n"
   ]
  },
  {
   "cell_type": "code",
   "execution_count": 17,
   "metadata": {},
   "outputs": [
    {
     "data": {
      "text/plain": [
       "DecisionTreeClassifier(ccp_alpha=0.005, class_weight=None, criterion='entropy',\n",
       "                       max_depth=None, max_features=None, max_leaf_nodes=None,\n",
       "                       min_impurity_decrease=0.0, min_impurity_split=None,\n",
       "                       min_samples_leaf=1, min_samples_split=2,\n",
       "                       min_weight_fraction_leaf=0.0, presort='deprecated',\n",
       "                       random_state=None, splitter='best')"
      ]
     },
     "execution_count": 17,
     "metadata": {},
     "output_type": "execute_result"
    }
   ],
   "source": [
    "tree_classifier"
   ]
  },
  {
   "cell_type": "code",
   "execution_count": 18,
   "metadata": {},
   "outputs": [
    {
     "data": {
      "image/png": "[encoded data removed]",
      "text/plain": [
       "<Figure size 720x360 with 1 Axes>"
      ]
     },
     "metadata": {
      "needs_background": "light"
     },
     "output_type": "display_data"
    }
   ],
   "source": [
    "from sklearn.metrics import f1_score\n",
    "f1_scores = stratFold(train_X, train_y, tree_classifier, f1_score, \n",
    "                      average=\"weighted\")\n",
    "plot_learning_curve(f1_scores[0], f1_scores[1], f1_scores[2], \n",
    "                    title=\"f1_macro score learning curve\")"
   ]
  },
  {
   "cell_type": "code",
   "execution_count": 19,
   "metadata": {},
   "outputs": [
    {
     "name": "stdout",
     "output_type": "stream",
     "text": [
      "DecisionTreeClassifier(ccp_alpha=0.001, class_weight=None, criterion='gini',\n",
      "                       max_depth=None, max_features=None, max_leaf_nodes=None,\n",
      "                       min_impurity_decrease=0.0, min_impurity_split=None,\n",
      "                       min_samples_leaf=1, min_samples_split=2,\n",
      "                       min_weight_fraction_leaf=0.0, presort='deprecated',\n",
      "                       random_state=None, splitter='best') 0.9087459262111514\n"
     ]
    },
    {
     "data": {
      "image/png": "[encoded data removed]",
      "text/plain": [
       "<Figure size 720x360 with 1 Axes>"
      ]
     },
     "metadata": {
      "needs_background": "light"
     },
     "output_type": "display_data"
    }
   ],
   "source": [
    "# check it first with f1\n",
    "from sklearn.model_selection import GridSearchCV\n",
    "param_grid = {\n",
    "    'criterion': ['gini', 'entropy'],\n",
    "    'ccp_alpha': [0.02, 0.014, 0.01, 0.008, 0.006, 0.004, 0.002, 0.001]\n",
    "}\n",
    "search_f1 = GridSearchCV(DecisionTreeClassifier(), param_grid, cv=5, \n",
    "                      scoring='f1_weighted', n_jobs=-1)\n",
    "search_f1.fit(train_X, train_y)\n",
    "print(search_f1.best_estimator_, search_f1.best_score_)\n",
    "from sklearn.metrics import f1_score\n",
    "f1_scores = stratFold(train_X, train_y, search_f1.best_estimator_, f1_score, \n",
    "                      average= 'weighted')\n",
    "plot_learning_curve(f1_scores[0], f1_scores[1], f1_scores[2], title=\"f1 scores\")"
   ]
  },
  {
   "cell_type": "code",
   "execution_count": 20,
   "metadata": {},
   "outputs": [
    {
     "name": "stdout",
     "output_type": "stream",
     "text": [
      "DecisionTreeClassifier(ccp_alpha=0.0014, class_weight=None, criterion='gini',\n",
      "                       max_depth=None, max_features=None, max_leaf_nodes=None,\n",
      "                       min_impurity_decrease=0.0, min_impurity_split=None,\n",
      "                       min_samples_leaf=1, min_samples_split=2,\n",
      "                       min_weight_fraction_leaf=0.0, presort='deprecated',\n",
      "                       random_state=None, splitter='best') 0.9140469812411578\n"
     ]
    },
    {
     "data": {
      "image/png": "[encoded data removed]",
      "text/plain": [
       "<Figure size 720x360 with 1 Axes>"
      ]
     },
     "metadata": {
      "needs_background": "light"
     },
     "output_type": "display_data"
    }
   ],
   "source": [
    "# check it first with f1\n",
    "from sklearn.model_selection import GridSearchCV\n",
    "param_grid = {\n",
    "    'criterion': ['gini', 'entropy'],\n",
    "    'ccp_alpha': [0.0018, 0.0016, 0.0014, 0.0012, 0.001, 0.0008, 0.0006]\n",
    "}\n",
    "search_f1 = GridSearchCV(DecisionTreeClassifier(), param_grid, cv=5, \n",
    "                      scoring='f1_weighted', n_jobs=-1)\n",
    "search_f1.fit(train_X, train_y)\n",
    "print(search_f1.best_estimator_, search_f1.best_score_)\n",
    "from sklearn.metrics import f1_score\n",
    "f1_scores = stratFold(train_X, train_y, search_f1.best_estimator_, f1_score, \n",
    "                      average= 'weighted')\n",
    "plot_learning_curve(f1_scores[0], f1_scores[1], f1_scores[2], title=\"f1 scores\")"
   ]
  },
  {
   "cell_type": "code",
   "execution_count": 21,
   "metadata": {},
   "outputs": [
    {
     "name": "stderr",
     "output_type": "stream",
     "text": [
      "[Parallel(n_jobs=-1)]: Using backend LokyBackend with 8 concurrent workers.\n",
      "[Parallel(n_jobs=-1)]: Done 1000 out of 1000 | elapsed:   11.6s finished\n"
     ]
    },
    {
     "data": {
      "image/png": "[encoded data removed]",
      "text/plain": [
       "<Figure size 720x360 with 1 Axes>"
      ]
     },
     "metadata": {
      "needs_background": "light"
     },
     "output_type": "display_data"
    }
   ],
   "source": [
    "from sklearn.model_selection import validation_curve\n",
    "import numpy as np\n",
    "param_range = np.linspace(0.0002, 0.02, 100)\n",
    "train_scores, test_scores = validation_curve(\n",
    "    DecisionTreeClassifier(), train_X, train_y, param_name=\"ccp_alpha\", \n",
    "    param_range=param_range, scoring='f1_weighted', verbose=1, cv=10, n_jobs=-1\n",
    ")\n",
    "train_scores.mean(axis=1), test_scores.mean(axis=1), param_range\n",
    "plot_complexity(train_scores.mean(axis=1), test_scores.mean(axis=1), param_range, \n",
    "                title='F1_weighted Curve on ccp_alpha')"
   ]
  },
  {
   "cell_type": "code",
   "execution_count": 22,
   "metadata": {},
   "outputs": [
    {
     "name": "stderr",
     "output_type": "stream",
     "text": [
      "[Parallel(n_jobs=-1)]: Using backend LokyBackend with 8 concurrent workers.\n",
      "[Parallel(n_jobs=-1)]: Done 1000 out of 1000 | elapsed:   12.0s finished\n"
     ]
    },
    {
     "data": {
      "image/png": "[encoded data removed]",
      "text/plain": [
       "<Figure size 720x360 with 1 Axes>"
      ]
     },
     "metadata": {
      "needs_background": "light"
     },
     "output_type": "display_data"
    }
   ],
   "source": [
    "from sklearn.model_selection import validation_curve\n",
    "import numpy as np\n",
    "param_range = np.linspace(0.0002, 0.005, 100)\n",
    "train_scores, test_scores = validation_curve(\n",
    "    DecisionTreeClassifier(), train_X, train_y, param_name=\"ccp_alpha\", \n",
    "    param_range=param_range, scoring='f1_weighted', verbose=1, cv=10, n_jobs=-1\n",
    ")\n",
    "train_scores.mean(axis=1), test_scores.mean(axis=1), param_range\n",
    "plot_complexity(train_scores.mean(axis=1), test_scores.mean(axis=1), param_range, \n",
    "                title='F1_weighted Curve on ccp_alpha')"
   ]
  },
  {
   "cell_type": "code",
   "execution_count": 23,
   "metadata": {},
   "outputs": [
    {
     "data": {
      "text/plain": [
       "0.0010727272727272727"
      ]
     },
     "execution_count": 23,
     "metadata": {},
     "output_type": "execute_result"
    }
   ],
   "source": [
    "ind = test_scores.mean(axis=1).argmax()\n",
    "best_alpha = param_range[ind]\n",
    "best_alpha"
   ]
  },
  {
   "cell_type": "code",
   "execution_count": 24,
   "metadata": {},
   "outputs": [
    {
     "data": {
      "image/png": "[encoded data removed]",
      "text/plain": [
       "<Figure size 720x360 with 1 Axes>"
      ]
     },
     "metadata": {
      "needs_background": "light"
     },
     "output_type": "display_data"
    }
   ],
   "source": [
    "# use the best from validation curve \n",
    "best_tree = DecisionTreeClassifier(ccp_alpha=best_alpha)\n",
    "from sklearn.metrics import f1_score\n",
    "f1_scores = stratFold(train_X, train_y, best_tree, \n",
    "                             f1_score, average=\"weighted\")\n",
    "plot_learning_curve(f1_scores[0], f1_scores[1], f1_scores[2], \n",
    "                    title=\"Learning curve with best_alpha\")"
   ]
  },
  {
   "cell_type": "code",
   "execution_count": 25,
   "metadata": {},
   "outputs": [
    {
     "name": "stdout",
     "output_type": "stream",
     "text": [
      "              precision    recall  f1-score   support\n",
      "\n",
      "           1    0.91139   0.91429   0.91284       315\n",
      "           2    0.92191   0.90819   0.91500       403\n",
      "           3    0.88850   0.90426   0.89631       282\n",
      "\n",
      "    accuracy                        0.90900      1000\n",
      "   macro avg    0.90727   0.90891   0.90805      1000\n",
      "weighted avg    0.90918   0.90900   0.90905      1000\n",
      "\n",
      "[[288  16  11]\n",
      " [ 16 366  21]\n",
      " [ 12  15 255]]\n",
      "0.9090478083300143\n"
     ]
    }
   ],
   "source": [
    "# test with the test data\n",
    "from sklearn.metrics import roc_curve, precision_score, accuracy_score, average_precision_score, recall_score, f1_score, classification_report, confusion_matrix\n",
    "best_tree.fit(train_X, train_y)\n",
    "test_predictions = best_tree.predict(test_X)\n",
    "print(classification_report(test_y, test_predictions, digits=5))\n",
    "print(confusion_matrix(test_y, test_predictions))\n",
    "print(f1_score(test_y, test_predictions, average=\"weighted\"))"
   ]
  }
 ],
 "metadata": {
  "kernelspec": {
   "display_name": "Python 3",
   "language": "python",
   "name": "python3"
  },
  "language_info": {
   "codemirror_mode": {
    "name": "ipython",
    "version": 3
   },
   "file_extension": ".py",
   "mimetype": "text/x-python",
   "name": "python",
   "nbconvert_exporter": "python",
   "pygments_lexer": "ipython3",
   "version": "3.7.5"
  }
 },
 "nbformat": 4,
 "nbformat_minor": 4
}
